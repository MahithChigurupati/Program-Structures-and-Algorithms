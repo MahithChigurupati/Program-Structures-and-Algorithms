{
 "cells": [
  {
   "cell_type": "markdown",
   "metadata": {},
   "source": [
    "# Final Exam\n",
    "## Filename: final.ipynb\n",
    "## Jagadeesh Vasudevamurthy\n",
    "## DO NOT FORWARD OR COPY"
   ]
  },
  {
   "cell_type": "code",
   "execution_count": 73,
   "metadata": {},
   "outputs": [
    {
     "name": "stdout",
     "output_type": "stream",
     "text": [
      "3.9.13 (main, Aug 25 2022, 18:29:29) \n",
      "[Clang 12.0.0 ]\n"
     ]
    }
   ],
   "source": [
    "import sys\n",
    "import os\n",
    "from time import process_time \n",
    "print(sys.version)"
   ]
  },
  {
   "cell_type": "markdown",
   "metadata": {},
   "source": [
    "# Find all islands\n",
    "# Write code only in this cell"
   ]
  },
  {
   "cell_type": "code",
   "execution_count": 74,
   "metadata": {},
   "outputs": [],
   "source": [
    "############################################################\n",
    "# exam.py\n",
    "# Author: Jagadeesh Vasudevamurthy\n",
    "# Copyright: Jagadeesh Vasudevamurthy 2023\n",
    "###########################################################\n",
    "\n",
    "############################################################\n",
    "# All imports\n",
    "###########################################################\n",
    "from typing import List\n",
    "from time import process_time\n",
    "\n",
    "        \n",
    "class exam:\n",
    "    def __init__(\n",
    "        self,\n",
    "        grid: \"List[List[str]\",\n",
    "        n: \"int\",\n",
    "        islands: \"list of list of int\",\n",
    "        work: \"List of size 1\",\n",
    "        show: \"boolean\",\n",
    "    ):\n",
    "        self._grid = grid\n",
    "        self._n = n  # 4 or 8 Direction to explore\n",
    "        self._islands = islands  # Must Fill\n",
    "        self._work = work  # Must Fill\n",
    "        self._show = show\n",
    "\n",
    "        # Tou can have any number of data structures here\n",
    "        self._visited = [[False for _ in range(len(grid[0]))] for _ in range(len(grid))]\n",
    "\n",
    "\n",
    "        # MUST WRITE THIS ROUTINE\n",
    "        self._alg()\n",
    "        \n",
    "\n",
    "    def _increment_work(self):\n",
    "        self._work[0] = self._work[0] + 1\n",
    "\n",
    "    ############################################################\n",
    "    # WRITE CODE BELOW\n",
    "    ###########################################################\n",
    "    def _dfs(self, row, col):\n",
    "        if row < 0 or col < 0 or row >= len(self._grid) or col >= len(self._grid[0]) or self._grid[row][col] == \"0\" or self._visited[row][col]:\n",
    "            return []\n",
    "        \n",
    "        self._visited[row][col] = True\n",
    "        island = [[row, col]]\n",
    "        directions = [(1, 0), (-1, 0), (0, 1), (0, -1)]\n",
    "        if self._n == 8:\n",
    "            directions.extend([(1, 1), (-1, -1), (1, -1), (-1, 1)])\n",
    "        \n",
    "        for dr, dc in directions:\n",
    "            island.extend(self._dfs(row + dr, col + dc))\n",
    "        \n",
    "        island_flat = [index for row, col in island for index in (row, col)]\n",
    "        return island\n",
    "\n",
    "    def _alg(self):\n",
    "        for i in range(len(self._grid)):\n",
    "            for j in range(len(self._grid[0])):\n",
    "                if self._grid[i][j] == \"1\" and not self._visited[i][j]:\n",
    "                    self._increment_work()  # Increment the work counter\n",
    "                    island = self._dfs(i, j)\n",
    "                    if island:\n",
    "                        self._islands.append([index for row, col in island for index in (row, col)])\n",
    "                        \n",
    "                        if self._show:\n",
    "                            self._print_island(island)\n",
    "                        else:\n",
    "                            self._print_flattened_island(island)\n",
    "                            \n",
    "    def _print_flattened_island(self, island):\n",
    "        flattened_indexes = [index for pair in island for index in pair]\n",
    "        print(flattened_indexes)\n",
    "        print()  # Add a newline character after each island is printed\n",
    "                            \n",
    "    def _print_island(self, island):\n",
    "        flattened_indexes = [index for pair in island for index in pair]\n",
    "        print(\"Island found:\", flattened_indexes)\n",
    "        if self._show:\n",
    "            self._print_matrix_with_island(island)\n",
    "            print()  # Add a newline character after each island is printed\n",
    "            \n",
    "    def _print_matrix_with_island(self, island):\n",
    "        grid_copy = [row[:] for row in self._grid]\n",
    "        for row, col in island:\n",
    "            grid_copy[row][col] = \"X\"\n",
    "        self._print_matrix(grid_copy)\n",
    "        \n",
    "    def _print_matrix(self, grid: \"List[List[str]]\"):\n",
    "        for arow in grid:\n",
    "            for e in arow:\n",
    "                print(e, sep=\"\", end=\"\")\n",
    "            print()\n"
   ]
  },
  {
   "cell_type": "markdown",
   "metadata": {},
   "source": [
    "# NOTHING CAN BE CHANGED BELOW"
   ]
  },
  {
   "cell_type": "markdown",
   "metadata": {},
   "source": [
    "# TEST BENCH"
   ]
  },
  {
   "cell_type": "code",
   "execution_count": 75,
   "metadata": {},
   "outputs": [],
   "source": [
    "############################################################\n",
    "# examTest.py\n",
    "# Author: Jagadeesh Vasudevamurthy\n",
    "# Copyright: Jagadeesh Vasudevamurthy 2023\n",
    "###########################################################\n",
    "\n",
    "############################################################\n",
    "#              NOTHING CAN BE CHANGED IN THIS FILE\n",
    "###########################################################\n",
    "\n",
    "############################################################\n",
    "# All imports\n",
    "###########################################################\n",
    "#from exam import *\n",
    "#from typing import List\n",
    "#from time import process_time\n",
    "\n",
    "\n",
    "class examTest:\n",
    "    def __init__(self):\n",
    "        self._show = True\n",
    "        self._num = 0\n",
    "        self._mark = 0\n",
    "        self._test()\n",
    "\n",
    "    def _print_matrix(self, grid: \"List[List[str]\"):\n",
    "        if self._show:\n",
    "            for arow in grid:\n",
    "                for e in arow:\n",
    "                    print(e, sep=\"\", end=\"\")\n",
    "                print()\n",
    "            print()\n",
    "\n",
    "    def _test1(self, grid: \"List[List[str]\", n: int, eans: \"int\"):\n",
    "        self._num = self._num + 1\n",
    "        print(\n",
    "            \"______________________Problem\",\n",
    "            self._num,\n",
    "            \"---------------------------------\",\n",
    "        )\n",
    "        print(\"Input grid is shown below. You must find all islands for n = \", n)\n",
    "        self._print_matrix(grid)\n",
    "        work = [0]\n",
    "        islands = []\n",
    "        # return list of listq\n",
    "        p = exam(grid, n, islands, work, self._show)\n",
    "        num = len(islands)\n",
    "        if num:\n",
    "            if work[0] == 0:\n",
    "                print(\"How did you solve the problem witj no work?\")\n",
    "                assert False\n",
    "            else:\n",
    "                print(\"WORK = \", work[0])\n",
    "\n",
    "    def _marks(self, n:'int'):\n",
    "      self._mark += n\n",
    "      print(\"At this point You got\", self._mark, \"marks\")\n",
    "\n",
    "    def _test(self):\n",
    "        self._show = True\n",
    "        \n",
    "        grid = [\n",
    "            [\"1\", \"1\", \"0\"],\n",
    "            [\"0\", \"1\", \"0\"],\n",
    "            [\"1\", \"0\", \"0\"]         \n",
    "        ]\n",
    "        n = 4\n",
    "        e = 5 #wrong\n",
    "        self._test1(grid, n, e)\n",
    "\n",
    "        n = 8\n",
    "        e = 4 #WRONG\n",
    "        self._test1(grid, n, e)\n",
    "        self._marks(10)\n",
    "        print(\"Let us see how many tests passes after I give you hidden tests\")\n",
    "\n",
    "\n",
    "############################################################\n",
    "# main\n",
    "# YOU CANNOT CHANGE ANYTHING BELOW\n",
    "###########################################################\n",
    "def main():\n",
    "    print(\"Testing examTest Starts\")\n",
    "    s = examTest()\n",
    "    print(\"Testing examTest ENDS\")\n"
   ]
  },
  {
   "cell_type": "markdown",
   "metadata": {},
   "source": [
    "# REAL MAIN"
   ]
  },
  {
   "cell_type": "code",
   "execution_count": 76,
   "metadata": {},
   "outputs": [
    {
     "name": "stdout",
     "output_type": "stream",
     "text": [
      "Testing examTest Starts\n",
      "______________________Problem 1 ---------------------------------\n",
      "Input grid is shown below. You must find all islands for n =  4\n",
      "110\n",
      "010\n",
      "100\n",
      "\n",
      "Island found: [0, 0, 0, 1, 1, 1]\n",
      "XX0\n",
      "0X0\n",
      "100\n",
      "\n",
      "Island found: [2, 0]\n",
      "110\n",
      "010\n",
      "X00\n",
      "\n",
      "WORK =  2\n",
      "______________________Problem 2 ---------------------------------\n",
      "Input grid is shown below. You must find all islands for n =  8\n",
      "110\n",
      "010\n",
      "100\n",
      "\n",
      "Island found: [0, 0, 0, 1, 1, 1, 2, 0]\n",
      "XX0\n",
      "0X0\n",
      "X00\n",
      "\n",
      "WORK =  1\n",
      "At this point You got 10 marks\n",
      "Let us see how many tests passes after I give you hidden tests\n",
      "Testing examTest ENDS\n"
     ]
    }
   ],
   "source": [
    "if (__name__    == '__main__'):\n",
    "    main()"
   ]
  },
  {
   "cell_type": "code",
   "execution_count": null,
   "metadata": {},
   "outputs": [],
   "source": []
  },
  {
   "cell_type": "code",
   "execution_count": null,
   "metadata": {},
   "outputs": [],
   "source": []
  },
  {
   "cell_type": "code",
   "execution_count": null,
   "metadata": {},
   "outputs": [],
   "source": []
  },
  {
   "cell_type": "code",
   "execution_count": null,
   "metadata": {},
   "outputs": [],
   "source": []
  },
  {
   "cell_type": "code",
   "execution_count": null,
   "metadata": {},
   "outputs": [],
   "source": []
  },
  {
   "cell_type": "code",
   "execution_count": null,
   "metadata": {},
   "outputs": [],
   "source": []
  },
  {
   "cell_type": "code",
   "execution_count": null,
   "metadata": {},
   "outputs": [],
   "source": []
  },
  {
   "cell_type": "code",
   "execution_count": null,
   "metadata": {},
   "outputs": [],
   "source": []
  }
 ],
 "metadata": {
  "kernelspec": {
   "display_name": "Python 3 (ipykernel)",
   "language": "python",
   "name": "python3"
  },
  "language_info": {
   "codemirror_mode": {
    "name": "ipython",
    "version": 3
   },
   "file_extension": ".py",
   "mimetype": "text/x-python",
   "name": "python",
   "nbconvert_exporter": "python",
   "pygments_lexer": "ipython3",
   "version": "3.9.13"
  }
 },
 "nbformat": 4,
 "nbformat_minor": 4
}
