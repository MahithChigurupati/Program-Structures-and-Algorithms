{
 "cells": [
  {
   "cell_type": "markdown",
   "metadata": {},
   "source": [
    "## 2. Add Two Numbers\n",
    "## https://leetcode.com/problems/add-two-numbers/\n",
    "## Jagadeesh Vasudevamurthy"
   ]
  },
  {
   "cell_type": "markdown",
   "metadata": {},
   "source": [
    "# Write code below"
   ]
  },
  {
   "cell_type": "code",
   "execution_count": null,
   "metadata": {},
   "outputs": [],
   "source": [
    "############################################################\n",
    "# L0002.py\n",
    "# Author: Jagadeesh Vasudevamurthy\n",
    "# Copyright: Jagadeesh Vasudevamurthy 2022\n",
    "###########################################################\n",
    "\n",
    "############################################################\n",
    "# https://leetcode.com/problems/add-two-numbers/\n",
    "###########################################################\n",
    "\n",
    "class Solution:\n",
    "    #NOTHING CAN BE CHANGED BELOW\n",
    "    def addTwoNumbers(self, l1: 'ListNode', l2: 'ListNode')->'ListNode':\n",
    "        show = False\n",
    "        assert_answers = True\n",
    "        ans = [None] #List of size 1\n",
    "        h = L0002(l1,l2,ans,assert_answers,show)\n",
    "        return ans[0]\n",
    "\n",
    "class L0002:\n",
    "    def __init__(self, l1: 'ListNode', l2: 'ListNode', ans:'listNode of size 1', assert_answers:'bool',show:'bool') -> None:\n",
    "        #NOTHING CAN BE CHANGED BELOW\n",
    "        self._a = Slist()\n",
    "        self._a._first = l1\n",
    "        self._b = Slist()\n",
    "        self._b._first = l2\n",
    "        self._ans = ans\n",
    "        self._alg()\n",
    "        \n",
    "    def _alg(self):\n",
    "        c = self._a + self._b\n",
    "        self._ans[0] = c._first\n",
    "\n",
    "\n",
    "class Slist():\n",
    "    def __init__(self):\n",
    "        #NOTHING CAN BE CHANGED HERE\n",
    "        self._first = None\n",
    "        self._last = None\n",
    "\n",
    "    #############################\n",
    "    # WRITE CODE BELOW\n",
    "    #############################\n"
   ]
  },
  {
   "cell_type": "markdown",
   "metadata": {},
   "source": [
    "##  NO test bench. Use Slist object to learn"
   ]
  },
  {
   "cell_type": "code",
   "execution_count": null,
   "metadata": {},
   "outputs": [],
   "source": []
  }
 ],
 "metadata": {
  "kernelspec": {
   "display_name": "Python 3 (ipykernel)",
   "language": "python",
   "name": "python3"
  },
  "language_info": {
   "codemirror_mode": {
    "name": "ipython",
    "version": 3
   },
   "file_extension": ".py",
   "mimetype": "text/x-python",
   "name": "python",
   "nbconvert_exporter": "python",
   "pygments_lexer": "ipython3",
   "version": "3.9.7"
  }
 },
 "nbformat": 4,
 "nbformat_minor": 4
}
