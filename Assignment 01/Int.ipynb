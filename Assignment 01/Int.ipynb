{
 "cells": [
  {
   "cell_type": "markdown",
   "id": "0db14de8",
   "metadata": {},
   "source": [
    "# CSYE 6205: Program Structures and Algorithms"
   ]
  },
  {
   "cell_type": "markdown",
   "id": "25f50e5d",
   "metadata": {},
   "source": [
    "Assignment I\n",
    "\n",
    "Requirement: Implement class Int"
   ]
  },
  {
   "cell_type": "markdown",
   "id": "2e2ad650",
   "metadata": {},
   "source": [
    "Developer: SaiMahith Chigurupati\n",
    "\n",
    "NUID: 002700539\n",
    "\n",
    "Email: chigurupati.sa@northeastern.edu"
   ]
  },
  {
   "cell_type": "markdown",
   "id": "07110883",
   "metadata": {},
   "source": [
    "  "
   ]
  },
  {
   "cell_type": "markdown",
   "id": "5ad1da53",
   "metadata": {},
   "source": [
    "# Class Int"
   ]
  },
  {
   "cell_type": "code",
   "execution_count": 6,
   "id": "e3084505",
   "metadata": {},
   "outputs": [],
   "source": [
    "## Int.py \n",
    "## Class Int\n",
    "\n",
    "class Int():\n",
    "    def __init__(self,n:'int' = 0):  \n",
    "        print(\"Remove this line  and Write code \")"
   ]
  },
  {
   "cell_type": "code",
   "execution_count": null,
   "id": "edb1e133",
   "metadata": {},
   "outputs": [],
   "source": []
  }
 ],
 "metadata": {
  "kernelspec": {
   "display_name": "Python 3 (ipykernel)",
   "language": "python",
   "name": "python3"
  },
  "language_info": {
   "codemirror_mode": {
    "name": "ipython",
    "version": 3
   },
   "file_extension": ".py",
   "mimetype": "text/x-python",
   "name": "python",
   "nbconvert_exporter": "python",
   "pygments_lexer": "ipython3",
   "version": "3.9.13"
  }
 },
 "nbformat": 4,
 "nbformat_minor": 5
}
